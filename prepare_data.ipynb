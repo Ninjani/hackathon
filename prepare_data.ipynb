{
 "cells": [
  {
   "cell_type": "code",
   "execution_count": 1,
   "metadata": {},
   "outputs": [],
   "source": [
    "import prody as pd\n",
    "from pathlib import Path\n",
    "import numpy as np\n",
    "from tqdm.notebook import tqdm"
   ]
  },
  {
   "cell_type": "code",
   "execution_count": 17,
   "metadata": {},
   "outputs": [],
   "source": [
    "def get_interface_residues(pdb_file_1, pdb_file_2, threshold=6.0):\n",
    "    \"\"\"\n",
    "    Get the interface residues between two (sets of) chains of a protein\n",
    "    An interface residue is defined as a residue that has at least one heavy atom within a distance threshold from the other chain set\n",
    "    \n",
    "    :param pdb_file_1: first pdb file\n",
    "    :param pdb_file_2: second pdb file\n",
    "    :param threshold: distance threshold for interface residues\n",
    "    :return: interface residues of the first chain set, interface residues of the second chain set\n",
    "    \"\"\"\n",
    "    structure_1 = pd.parsePDB(str(pdb_file_1)).select(\"protein and not hydrogen\")\n",
    "    structure_2 = pd.parsePDB(str(pdb_file_2)).select(\"protein and not hydrogen\")\n",
    "    structure_1_coords = structure_1.getCoords()\n",
    "    structure_2_coords = structure_2.getCoords()\n",
    "    structure_1_2_coords = np.concatenate([structure_1_coords, structure_2_coords])\n",
    "    structure_1_interface_residues = set()\n",
    "    structure_2_interface_residues = set()\n",
    "    structure_1_length = len(structure_1_coords)\n",
    "    kd_tree = pd.KDTree(structure_1_2_coords)\n",
    "    for i in range(len(structure_1_coords)):\n",
    "        kd_tree.search(center = structure_1_coords[i], radius = threshold)\n",
    "        if any([j >= structure_1_length for j in kd_tree.getIndices()]):\n",
    "            structure_1_interface_residues.add(f\"{structure_1[i].getChid()}_{structure_1[i].getResnum()}\")\n",
    "    for i in range(len(structure_2_coords)):\n",
    "        kd_tree.search(center = structure_2_coords[i], radius = threshold)\n",
    "        if any([j < structure_1_length for j in kd_tree.getIndices()]):\n",
    "            structure_2_interface_residues.add(f\"{structure_2[i].getChid()}_{structure_2[i].getResnum()}\")\n",
    "    return structure_1_interface_residues, structure_2_interface_residues"
   ]
  },
  {
   "cell_type": "code",
   "execution_count": 19,
   "metadata": {},
   "outputs": [
    {
     "data": {
      "application/vnd.jupyter.widget-view+json": {
       "model_id": "dc12095c76ab4ed28a7be2575023288a",
       "version_major": 2,
       "version_minor": 0
      },
      "text/plain": [
       "0it [00:00, ?it/s]"
      ]
     },
     "metadata": {},
     "output_type": "display_data"
    }
   ],
   "source": [
    "missing_pdb_files = set()\n",
    "with open(\"data/interface_labels.txt\", \"w\") as f:\n",
    "    with open(\"data/full_list.txt\") as list_f:\n",
    "        for line in tqdm(list_f):\n",
    "            pdb_id, chains_1, chains_2 = line.strip().split(\"_\")\n",
    "            pdb_file_1 = Path(\"data/raw\") / f\"{pdb_id}_{chains_1}.pdb\"\n",
    "            pdb_file_2 = Path(\"data/raw\") / f\"{pdb_id}_{chains_2}.pdb\" \n",
    "            if not pdb_file_1.exists() or not pdb_file_2.exists():\n",
    "                continue\n",
    "            interface_residues_1, interface_residues_2 = get_interface_residues(pdb_file_1, pdb_file_2)\n",
    "            f.write(f\"\\t\".join([pdb_file_1.stem, pdb_file_2.stem, \",\".join(interface_residues_1), \",\".join(interface_residues_2)]) + \"\\n\")"
   ]
  },
  {
   "cell_type": "code",
   "execution_count": null,
   "metadata": {},
   "outputs": [],
   "source": []
  }
 ],
 "metadata": {
  "kernelspec": {
   "display_name": "diffusion_gpu_pip",
   "language": "python",
   "name": "python3"
  },
  "language_info": {
   "codemirror_mode": {
    "name": "ipython",
    "version": 3
   },
   "file_extension": ".py",
   "mimetype": "text/x-python",
   "name": "python",
   "nbconvert_exporter": "python",
   "pygments_lexer": "ipython3",
   "version": "3.10.9"
  },
  "orig_nbformat": 4
 },
 "nbformat": 4,
 "nbformat_minor": 2
}
